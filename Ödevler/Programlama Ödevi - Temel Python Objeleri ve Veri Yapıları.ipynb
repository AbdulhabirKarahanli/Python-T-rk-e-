{
 "cells": [
  {
   "cell_type": "markdown",
   "metadata": {},
   "source": [
    "## Programlama Ödevi - Temel Python Objeleri ve Veri Yapıları\n",
    "\n",
    "*Tebrikler! Bölümü başarıyla bitirdiniz. Şimdi, öğrendiklerinizin akılda kalması için ödevinizi yapma zamanı!*"
   ]
  },
  {
   "cell_type": "markdown",
   "metadata": {},
   "source": [
    "### Problem 1\n",
    "\n",
    "Kullanıcıdan aldığınız 3 tane sayıyı çarparak ekrana yazdırın. Ekrana yazdırma işlemini ***format*** metoduyla yapmaya çalışın."
   ]
  },
  {
   "cell_type": "code",
   "execution_count": 3,
   "metadata": {},
   "outputs": [
    {
     "name": "stdout",
     "output_type": "stream",
     "text": [
      "sayi giriniz:2\n",
      "sayi giriniz:3\n",
      "sayi giriniz:4\n",
      "2 x 3 x 4 = 24 dir\n"
     ]
    }
   ],
   "source": [
    "sayi1 = int(input(\"sayi giriniz:\"))\n",
    "sayi2 = int(input(\"sayi giriniz:\")) \n",
    "sayi3 = int(input(\"sayi giriniz:\"))\n",
    "\n",
    "sayi_carpim = sayi1 * sayi2 * sayi3\n",
    "\n",
    "print(\"{} x {} x {} = {} dir\".format(sayi1,sayi2,sayi3, sayi_carpim))"
   ]
  },
  {
   "cell_type": "markdown",
   "metadata": {},
   "source": [
    "### Problem 2\n",
    "\n",
    "Kullanıcıdan aldığınız **boy** ve **kilo** değerlerine göre kullanıcının beden kitle indeksini bulun.\n",
    "\n",
    "*Beden Kitle İndeksi :  Kilo / Boy(m) * Boy(m)"
   ]
  },
  {
   "cell_type": "code",
   "execution_count": 4,
   "metadata": {},
   "outputs": [
    {
     "name": "stdout",
     "output_type": "stream",
     "text": [
      "boyunuzu giriniz:1.77\n",
      "kilonuzu giriniz70\n",
      "Abdulhabir'in body mass indexi: 22.34351559258195\n"
     ]
    }
   ],
   "source": [
    "boy = float(input(\"boyunuzu giriniz:\"))\n",
    "kilo = int(input(\"kilonuzu giriniz\"))\n",
    "\n",
    "Beden_Kitle_Indeksi = kilo / (boy**2)\n",
    "\n",
    "print(\"Abdulhabir'in body mass indexi:\", Beden_Kitle_Indeksi)\n",
    "\n",
    "# Normalsin Habir! No worries. "
   ]
  },
  {
   "cell_type": "markdown",
   "metadata": {},
   "source": [
    "### Problem 3 \n",
    "\n",
    "Bir aracın kilometrede ne kadar yaktığı ve kaç kilometre yol yaptığı bilgilerini alın ve sürücünü toplam ne kadar ödemesini gerektiğini hesaplayın."
   ]
  },
  {
   "cell_type": "code",
   "execution_count": null,
   "metadata": {},
   "outputs": [],
   "source": [
    "cost_of_fuel_per_km = int(input(\"Aracinizin her kilometre ne kadar yaktigini giriniz:\"))\n",
    "total_km_gone = int(input(\"Ne kadar yol gittiginizi yazin:\"))\n",
    "\n",
    "total_cost = cost_of_fuel_per_km * total_km_gone\n",
    "\n",
    "print(\"Odemeniz gereken mikar:\", total_cost)"
   ]
  },
  {
   "cell_type": "markdown",
   "metadata": {},
   "source": [
    "### Problem 4\n",
    "\n",
    "Kullanıcıdan ad,soyad ve numara bilgisini alarak bunları alt alta ekrana yazdırın."
   ]
  },
  {
   "cell_type": "code",
   "execution_count": 2,
   "metadata": {},
   "outputs": [
    {
     "name": "stdout",
     "output_type": "stream",
     "text": [
      "adinizi girin:Habir\n",
      "soyadinizi girin:Karahanli\n",
      "telefon numarinizi girin:15001500153\n",
      "Kisisel bilgiler asagidaki gibidir:\n",
      "Adi:Habir\n",
      "soyadi:Karahanli\n",
      "numarasi:15001500153\n"
     ]
    }
   ],
   "source": [
    "ad = input(\"adinizi girin:\")\n",
    "soyad = input(\"soyadinizi girin:\")\n",
    "numara = int(input(\"telefon numarinizi girin:\"))\n",
    "\n",
    "bilgiler = [ad, soyad, numara]\n",
    "\n",
    "print(\"Kisisel bilgiler asagidaki gibidir:\")\n",
    "\n",
    "\n",
    "print(\"Adi:{}\\nsoyadi:{}\\nnumarasi:{}\".format(bilgiler[0], bilgiler[1], bilgiler[2]))"
   ]
  },
  {
   "cell_type": "markdown",
   "metadata": {},
   "source": [
    "### Problem 5 \n",
    "\n",
    "Kullanıcıdan iki tane sayı isteyin ve bu sayıların değerlerini birbirleriyle değiştirin."
   ]
  },
  {
   "cell_type": "code",
   "execution_count": 4,
   "metadata": {},
   "outputs": [
    {
     "name": "stdout",
     "output_type": "stream",
     "text": [
      "Bir sayi girin:2\n",
      "Baska bir sayi girin:100\n",
      "Degistirilmeden onceki sayi degerleri\n",
      "num1:2 b:100\n",
      "Degistirildikten sonraki sayi degerleri\n",
      "num1:100 b:2\n"
     ]
    }
   ],
   "source": [
    "num1 = int(input(\"Bir sayi girin:\"))\n",
    "num2 = int(input(\"Baska bir sayi girin:\"))\n",
    "\n",
    "print(\"Degistirilmeden onceki sayi degerleri\\nnum1:{} b:{}\".format(num1,num2))\n",
    "\n",
    "num1,num2 = num2,num1\n",
    "\n",
    "print(\"Degistirildikten sonraki sayi degerleri\\nnum1:{} b:{}\".format(num1,num2))"
   ]
  },
  {
   "cell_type": "markdown",
   "metadata": {},
   "source": [
    "### Problem 6"
   ]
  },
  {
   "cell_type": "markdown",
   "metadata": {},
   "source": [
    "Kullanıcıdan bir dik üçgenin dik olan iki kenarını(a,b) alın ve hipotenüs uzunluğunu bulmaya çalışın.\n",
    "\n",
    "Hipotenüs Formülü: a^2 + b^2 = c^2"
   ]
  },
  {
   "cell_type": "code",
   "execution_count": 7,
   "metadata": {},
   "outputs": [
    {
     "name": "stdout",
     "output_type": "stream",
     "text": [
      "bir deger girin3\n",
      "bir deger girin4\n",
      "Hipotenuz degeri: 5.0\n"
     ]
    }
   ],
   "source": [
    "a = int(input(\"bir deger girin\"))\n",
    "b = int(input(\"bir deger girin\"))\n",
    "c = int\n",
    "#Hipotenüs Formülü: a^2 + b^2 = c^2\n",
    "\n",
    "c = (a**2 + b**2)**(0.5)\n",
    "\n",
    "print(\"Hipotenuz degeri:\", c)"
   ]
  },
  {
   "cell_type": "code",
   "execution_count": 8,
   "metadata": {},
   "outputs": [],
   "source": [
    "# Basariyla tamamlandi. "
   ]
  }
 ],
 "metadata": {
  "kernelspec": {
   "display_name": "Python 3 (ipykernel)",
   "language": "python",
   "name": "python3"
  },
  "language_info": {
   "codemirror_mode": {
    "name": "ipython",
    "version": 3
   },
   "file_extension": ".py",
   "mimetype": "text/x-python",
   "name": "python",
   "nbconvert_exporter": "python",
   "pygments_lexer": "ipython3",
   "version": "3.9.13"
  }
 },
 "nbformat": 4,
 "nbformat_minor": 2
}
